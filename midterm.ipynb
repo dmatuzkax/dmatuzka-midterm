{
 "cells": [
  {
   "cell_type": "markdown",
   "metadata": {},
   "source": [
    "# Libraries"
   ]
  },
  {
   "cell_type": "code",
   "execution_count": 27,
   "metadata": {},
   "outputs": [],
   "source": [
    "import pickle\n",
    "import pandas as pd\n",
    "import numpy as np\n",
    "import seaborn as sns\n",
    "from os.path import exists\n",
    "import matplotlib.pyplot as plt\n",
    "from sklearn.neighbors import KNeighborsClassifier\n",
    "from sklearn.model_selection import train_test_split\n",
    "from sklearn.metrics import accuracy_score, confusion_matrix\n",
    "from sklearn.feature_extraction.text import TfidfVectorizer\n",
    "from textblob import TextBlob\n",
    "from sklearn.preprocessing import RobustScaler\n",
    "import nltk\n",
    "from nltk.corpus import stopwords\n",
    "from nltk.stem import WordNetLemmatizer\n",
    "from sklearn.ensemble import GradientBoostingClassifier\n",
    "from sklearn.ensemble import RandomForestClassifier\n",
    "from sklearn.utils.class_weight import compute_sample_weight\n",
    "from sklearn.ensemble import HistGradientBoostingClassifier, HistGradientBoostingRegressor\n",
    "from imblearn.over_sampling import SMOTE\n",
    "import textstat\n",
    "from imblearn.ensemble import BalancedRandomForestClassifier\n",
    "from sklearn.ensemble import VotingClassifier\n",
    "from sklearn.base import BaseEstimator, ClassifierMixin"
   ]
  },
  {
   "cell_type": "markdown",
   "metadata": {},
   "source": [
    "# Loading the Files\n",
    "\n",
    "Download the csv files into the `data/` directory."
   ]
  },
  {
   "cell_type": "code",
   "execution_count": 42,
   "metadata": {},
   "outputs": [
    {
     "name": "stdout",
     "output_type": "stream",
     "text": [
      "train.csv shape is  (1697533, 9)\n",
      "test.csv shape is  (212192, 2)\n",
      "\n",
      "        Id   ProductId          UserId  HelpfulnessNumerator  \\\n",
      "0   914403  B0009W5KHM   AV6QDP8Q0ONK4                     2   \n",
      "1   354887  6303079709  A2I8RXJN80A2D2                     0   \n",
      "2  1407653  B004H0M2XC  A3FHV3RV8Z12E6                     0   \n",
      "3  1377458  B003ZJ9536  A12VLTA3ZHVPUY                     1   \n",
      "4   475323  630574453X  A13NM1PES9OXVN                     2   \n",
      "\n",
      "   HelpfulnessDenominator        Time  \\\n",
      "0                       2  1341014400   \n",
      "1                       0  1168819200   \n",
      "2                       0  1386201600   \n",
      "3                       1  1348704000   \n",
      "4                       3   970012800   \n",
      "\n",
      "                                         Summary  \\\n",
      "0                                  GOOD FUN FILM   \n",
      "1                                   Movie Review   \n",
      "2             When is it a good time to Consent?   \n",
      "3                                          TRUTH   \n",
      "4  Intelligent and bittersweet -- stays with you   \n",
      "\n",
      "                                                Text  Score  \n",
      "0  While most straight to DVD films are not worth...    5.0  \n",
      "1  I have wanted this one for sometime, also.  I ...    5.0  \n",
      "2  Actually this was a pretty darn good indie fil...    4.0  \n",
      "3  Episodes 37 to 72 of the series press on in a ...    5.0  \n",
      "4  I was really impressed with this movie, but wa...    3.0  \n",
      "\n",
      "        Id  Score\n",
      "0  1323432    NaN\n",
      "1  1137299    NaN\n",
      "2  1459366    NaN\n",
      "3   931601    NaN\n",
      "4  1311995    NaN\n",
      "\n",
      "                 Id  HelpfulnessNumerator  HelpfulnessDenominator  \\\n",
      "count  1.697533e+06          1.697533e+06            1.697533e+06   \n",
      "mean   8.487660e+05          3.569048e+00            5.301422e+00   \n",
      "std    4.900357e+05          1.727883e+01            2.024445e+01   \n",
      "min    0.000000e+00          0.000000e+00            0.000000e+00   \n",
      "25%    4.243830e+05          0.000000e+00            0.000000e+00   \n",
      "50%    8.487660e+05          1.000000e+00            1.000000e+00   \n",
      "75%    1.273149e+06          3.000000e+00            5.000000e+00   \n",
      "max    1.697532e+06          6.084000e+03            6.510000e+03   \n",
      "\n",
      "               Time         Score  \n",
      "count  1.697533e+06  1.485341e+06  \n",
      "mean   1.262422e+09  4.110517e+00  \n",
      "std    1.289277e+08  1.197651e+00  \n",
      "min    8.793792e+08  1.000000e+00  \n",
      "25%    1.164413e+09  4.000000e+00  \n",
      "50%    1.307491e+09  5.000000e+00  \n",
      "75%    1.373242e+09  5.000000e+00  \n",
      "max    1.406074e+09  5.000000e+00  \n"
     ]
    },
    {
     "data": {
      "image/png": "[encoded data removed]",
      "text/plain": [
       "<Figure size 640x480 with 1 Axes>"
      ]
     },
     "metadata": {},
     "output_type": "display_data"
    },
    {
     "name": "stdout",
     "output_type": "stream",
     "text": [
      "\n",
      "EVERYTHING IS PROPERLY SET UP! YOU ARE READY TO START\n"
     ]
    }
   ],
   "source": [
    "trainingSet = pd.read_csv(\"./data/train.csv\")\n",
    "testingSet = pd.read_csv(\"./data/test.csv\")\n",
    "\n",
    "print(\"train.csv shape is \", trainingSet.shape)\n",
    "print(\"test.csv shape is \", testingSet.shape)\n",
    "\n",
    "print()\n",
    "\n",
    "print(trainingSet.head())\n",
    "print()\n",
    "print(testingSet.head())\n",
    "\n",
    "print()\n",
    "\n",
    "print(trainingSet.describe())\n",
    "\n",
    "trainingSet['Score'].value_counts().plot(kind='bar', legend=True, alpha=.5)\n",
    "plt.show()\n",
    "\n",
    "print()\n",
    "print(\"EVERYTHING IS PROPERLY SET UP! YOU ARE READY TO START\")"
   ]
  },
  {
   "cell_type": "markdown",
   "metadata": {},
   "source": [
    "# Preprocess Text"
   ]
  },
  {
   "cell_type": "code",
   "execution_count": 412,
   "metadata": {},
   "outputs": [
    {
     "name": "stderr",
     "output_type": "stream",
     "text": [
      "[nltk_data] Downloading package stopwords to\n",
      "[nltk_data]     /Users/danielmatuzka/nltk_data...\n",
      "[nltk_data]   Package stopwords is already up-to-date!\n",
      "[nltk_data] Downloading package punkt_tab to\n",
      "[nltk_data]     /Users/danielmatuzka/nltk_data...\n",
      "[nltk_data]   Package punkt_tab is already up-to-date!\n",
      "[nltk_data] Downloading package wordnet to\n",
      "[nltk_data]     /Users/danielmatuzka/nltk_data...\n",
      "[nltk_data]   Package wordnet is already up-to-date!\n"
     ]
    }
   ],
   "source": [
    "nltk.download('stopwords')\n",
    "nltk.download('punkt_tab')\n",
    "nltk.download('wordnet')\n",
    "\n",
    "\n",
    "# Define a function for text preprocessing\n",
    "def preprocess_text(text):\n",
    "    if type(text) == str:\n",
    "        # Lowercasing\n",
    "        text = text.lower()\n",
    "\n",
    "        # Tokenization\n",
    "        tokens = nltk.word_tokenize(text)\n",
    "\n",
    "        # Stopword removal\n",
    "        stop_words = set(stopwords.words(\"english\"))\n",
    "        filtered_tokens = [word for word in tokens if word not in stop_words]\n",
    "\n",
    "        # Lemmatization\n",
    "        lemmatizer = WordNetLemmatizer()\n",
    "        lemmatized_tokens = [lemmatizer.lemmatize(word) for word in filtered_tokens]\n",
    "\n",
    "        # Punctuation removal\n",
    "        punctuation_removed_tokens = [word for word in lemmatized_tokens if word.isalnum()]\n",
    "\n",
    "        return ' '.join(punctuation_removed_tokens)\n",
    "        \n",
    "    else:\n",
    "        return text\n",
    "\n",
    "\n",
    "trainingSet['Text'] = trainingSet['Text'].fillna('')\n",
    "trainingSet['Summary'] = trainingSet['Summary'].fillna('')\n",
    "trainingSet['CombinedTextSummary'] = trainingSet['Text'] + '' + trainingSet['Summary']\n",
    "trainingSet['PreprocessedTextSummary'] = trainingSet['CombinedTextSummary'].apply(preprocess_text)"
   ]
  },
  {
   "cell_type": "markdown",
   "metadata": {},
   "source": [
    "# Adding Features"
   ]
  },
  {
   "cell_type": "code",
   "execution_count": 122,
   "metadata": {},
   "outputs": [],
   "source": [
    "def add_features_to(df):\n",
    "    # This is where you can do all your feature extraction\n",
    "    \n",
    "    df['Helpfulness'] = df['HelpfulnessNumerator'] / df['HelpfulnessDenominator']\n",
    "    df['Helpfulness'] = df['Helpfulness'].fillna(0)\n",
    "\n",
    "    average_help = df.groupby('ProductId')['Helpfulness'].mean().rename('AverageHelpfulness')\n",
    "\n",
    "    # Join the average scores with the reviews DataFrame.\n",
    "    df = df.join(average_help, on='ProductId')\n",
    "\n",
    "    # Calculate the deviation of each user's score from the product's average score.\n",
    "    df['Deviation_help'] = df['Helpfulness'] - df['AverageHelpfulness']\n",
    "\n",
    "    # Now calculate the average deviation for each user and add it as a new column.\n",
    "    user_average_deviation = df.groupby('UserId')['Deviation_help'].transform('mean').rename('UserAvgDeviation')\n",
    "    df['Help_devi_user'] = user_average_deviation\n",
    "\n",
    "    df['ReviewLength'] = df.apply(lambda row : len(row['Text'].split()) if type(row['Text']) == str else 0, axis = 1)\n",
    "\n",
    "    \n",
    "    df['Text'] = df['Text'].fillna('')\n",
    "    df['Summary'] = df['Summary'].fillna('')\n",
    "    df['CombinedTextSummary'] = df['Text'] + ' ' + df['Summary']\n",
    "    df['ExclamationCount'] = df['CombinedTextSummary'].str.count('!')\n",
    "    df['QuestionCount'] = df['CombinedTextSummary'].str.count(r'\\?')\n",
    "    \n",
    "    negation_words = ['not', 'no', 'never', 'none', \"n't\", 'neither', 'nor', 'without', 'hardly', 'barely', 'scarcely']\n",
    "    df['NegationCount'] = df['CombinedTextSummary'].apply(lambda x: sum(1 for word in x.split() if word.lower() in negation_words))\n",
    "\n",
    "    df['Sentiment'] = df['CombinedTextSummary'].apply(lambda x: TextBlob(x).sentiment.polarity)\n",
    "\n",
    "    # def calculate_text_complexity(text):\n",
    "    #     fk_grade_level = textstat.flesch_kincaid_grade(text)\n",
    "    #     gunning_fog = textstat.gunning_fog(text)\n",
    "    \n",
    "    #     return fk_grade_level, gunning_fog\n",
    "\n",
    "    # df[\"Text_Complexity\"] = df[\"PreprocessedTextSummary\"].apply(calculate_text_complexity)\n",
    "\n",
    "    # df[[\"Flesch-Kincaid Grade Level\", \"Gunning Fog Index\"]] = pd.DataFrame(df[\"Text_Complexity\"].tolist(), index=df.index)\n",
    "\n",
    "    df['ProductReviewCount'] = df.groupby('ProductId')['ProductId'].transform('count')\n",
    "    df['ReviewCountByUser'] = df.groupby('UserId')['UserId'].transform('count')\n",
    "\n",
    "    df.replace([float('inf'), -float('inf')], 0, inplace=True)\n",
    "    \n",
    "\n",
    "    # numerical_features = ['HelpfulnessDenominator', 'Helpfulness', 'Sentiment', 'Time',\n",
    "    #                       'ReviewCountByUser', 'ProductReviewCount', 'ReviewLength', 'Help_devi_user']\n",
    "    \n",
    "    # Initialize the RobustScaler\n",
    "    # scaler = RobustScaler()\n",
    "\n",
    "    # Apply the scaler to the numerical features and update the DataFrame\n",
    "    # df[numerical_features] = scaler.fit_transform(df[numerical_features])\n",
    "    \n",
    "    return df\n",
    "\n",
    "# Load the feature extracted files if they've already been generated\n",
    "if exists('./data/X_train.csv'):\n",
    "    X_train = pd.read_csv(\"./data/X_train.csv\")\n",
    "if exists('./data/X_submission.csv'):\n",
    "    X_submission = pd.read_csv(\"./data/X_submission.csv\")\n",
    "\n",
    "else:\n",
    "    # Process the DataFrame\n",
    "    train = add_features_to(trainingSet)\n",
    "\n",
    "    # Merge on Id so that the submission set can have feature columns as well\n",
    "    X_submission = pd.merge(train, testingSet, left_on='Id', right_on='Id')\n",
    "    X_submission = X_submission.drop(columns=['Score_x'])\n",
    "    X_submission = X_submission.rename(columns={'Score_y': 'Score'})\n",
    "\n",
    "    # The training set is where the score is not null\n",
    "    X_train =  train[train['Score'].notnull()]\n",
    "\n",
    "    X_submission.to_csv(\"./data/X_submission.csv\", index=False)\n",
    "    X_train.to_csv(\"./data/X_train.csv\", index=False)"
   ]
  },
  {
   "cell_type": "markdown",
   "metadata": {},
   "source": [
    "# Sample + Split into training and testing set"
   ]
  },
  {
   "cell_type": "code",
   "execution_count": 123,
   "metadata": {},
   "outputs": [],
   "source": [
    "# Split training set into training and testing set\n",
    "# sampled_df = X_train.groupby('Score').apply(lambda x: x.sample(n=150000, random_state=42) if len(x) >= 150000 else x)\n",
    "\n",
    "# X_train, X_test, Y_train, Y_test = train_test_split(\n",
    "#     sampled_df.drop(columns=['Score']),\n",
    "#     sampled_df['Score'],\n",
    "#     test_size=1/4.0,\n",
    "#     random_state=0\n",
    "# )\n",
    "\n",
    "X_train, X_test, Y_train, Y_test = train_test_split(\n",
    "    X_train.drop(columns=['Score']),\n",
    "    X_train['Score'],\n",
    "    test_size=1/4.0,\n",
    "    random_state=0\n",
    ")"
   ]
  },
  {
   "cell_type": "markdown",
   "metadata": {},
   "source": [
    "# Feature Selection"
   ]
  },
  {
   "cell_type": "code",
   "execution_count": 124,
   "metadata": {},
   "outputs": [],
   "source": [
    "features = ['HelpfulnessDenominator', 'Time', 'Helpfulness', 'Sentiment', 'ReviewCountByUser', \n",
    "            'ProductReviewCount', 'ReviewLength', 'Help_devi_user', 'AverageHelpfulness', 'ExclamationCount',\n",
    "           'QuestionCount', 'NegationCount']\n",
    "# exclude_columns = ['Score', 'ProductId', 'UserId', 'Summary', 'Text', 'Id']\n",
    "# features = [col for col in X_train.columns if col not in exclude_columns]\n",
    "\n",
    "X_train_select = X_train[features]\n",
    "X_test_select = X_test[features]\n",
    "X_submission_select = X_submission[features]"
   ]
  },
  {
   "cell_type": "markdown",
   "metadata": {},
   "source": [
    "# Model Creation"
   ]
  },
  {
   "cell_type": "code",
   "execution_count": 132,
   "metadata": {},
   "outputs": [],
   "source": [
    "# Learn the model\n",
    "# sm = SMOTE(random_state=42)\n",
    "# X_resampled, Y_resampled = sm.fit_resample(X_train_select, Y_train)\n",
    "# model = KNeighborsClassifier(n_neighbors=50).fit(X_train_select, Y_train)\n",
    "#best\n",
    "model = HistGradientBoostingClassifier(max_iter=1000, learning_rate=0.05, max_leaf_nodes=70, min_samples_leaf=30, random_state=42)\n",
    "# model = RandomForestClassifier(n_estimators=100, class_weight=custom_weights, random_state=42)\n",
    "# brf = BalancedRandomForestClassifier(n_estimators=100, random_state=42)\n",
    "# rf = HistGradientBoostingClassifier(max_iter=300, random_state=42)\n",
    "# model = VotingClassifier(estimators=[\n",
    "#     ('balanced_rf', brf), ('rf', rf)\n",
    "# ], voting='hard')\n",
    "# model.fit(X_train_select, Y_train)\n",
    "\n",
    "# class HybridEnsemble(BaseEstimator, ClassifierMixin):\n",
    "#     def __init__(self, model_balanced, model_unbalanced, threshold=0.45):\n",
    "#         self.model_balanced = model_balanced\n",
    "#         self.model_unbalanced = model_unbalanced\n",
    "#         self.threshold = threshold  # Threshold for deciding if class 5 is probable\n",
    "    \n",
    "#     def fit(self, X, y):\n",
    "#         # Fit both models\n",
    "#         mask = (y != 5)  # Separate data for classes 1-4 and class 5\n",
    "#         self.model_balanced.fit(X[mask], y[mask])  # Train on classes 1-4\n",
    "#         self.model_unbalanced.fit(X, y)            # Train on all classes, biased towards 5\n",
    "#         return self\n",
    "\n",
    "#     def predict(self, X):\n",
    "#         # Use probabilities to make final predictions\n",
    "#         probs = self.predict_proba(X)\n",
    "#         return np.argmax(probs, axis=1) + 1  # Convert index to class labels (1-5)\n",
    "\n",
    "#     def predict_proba(self, X):\n",
    "#         # Get probabilities from each model\n",
    "#         probs_balanced = self.model_balanced.predict_proba(X)\n",
    "#         probs_unbalanced = self.model_unbalanced.predict_proba(X)\n",
    "        \n",
    "#         # Initialize the final probabilities with balanced model's probabilities\n",
    "#         final_probs = np.zeros((X.shape[0], 5))\n",
    "        \n",
    "#         final_probs[:, :4] = probs_balanced\n",
    "        \n",
    "#         # Blend probabilities for each sample based on class 5's probability in the unbalanced model\n",
    "#         for i in range(len(X)):\n",
    "#             if probs_unbalanced[i][4] > self.threshold:  # Index `4` corresponds to class 5\n",
    "#                 final_probs[i] = probs_unbalanced[i]     # Use unbalanced model's probabilities\n",
    "#             else:\n",
    "#                 # For classes 1-4, take the probabilities from the balanced model\n",
    "#                 # For class 5, we just keep it at 0 since it's not predicted by the balanced model\n",
    "#                 final_probs[i][4] = 0  # Ensure class 5 probability remains 0 if not confident\n",
    "\n",
    "#         # Normalize each row to ensure they sum to 1 for valid probability distributions\n",
    "#         final_probs /= final_probs.sum(axis=1, keepdims=True)\n",
    "        \n",
    "#         return final_probs\n",
    "\n",
    "# balanced_model = BalancedRandomForestClassifier(n_estimators=200, random_state=42, sampling_strategy='all', replacement=True, bootstrap=False)\n",
    "# unbalanced_model = HistGradientBoostingClassifier(max_iter=300, random_state=42)\n",
    "\n",
    "# model = HybridEnsemble(model_balanced=balanced_model, model_unbalanced=unbalanced_model, threshold=0.45)\n",
    "\n",
    "# model = HistGradientBoostingRegressor(max_iter=300, random_state=42)\n",
    "model.fit(X_train_select, Y_train)\n",
    "# Y_test_continuous = model.predict(X_test_select)\n",
    "\n",
    "# Y_test_predictions = [\n",
    "#     1 if score <= 2.4 else \n",
    "#     2 if score <= 3 else \n",
    "#     3 if score <= 3.4 else \n",
    "#     4 if score <= 3.7 else \n",
    "#     5 for score in Y_test_continuous\n",
    "# ]\n",
    "\n",
    "# Predict the score using the model\n",
    "Y_test_predictions = model.predict(X_test_select)"
   ]
  },
  {
   "cell_type": "markdown",
   "metadata": {},
   "source": [
    "# Model Evaluation"
   ]
  },
  {
   "cell_type": "code",
   "execution_count": 133,
   "metadata": {},
   "outputs": [
    {
     "name": "stdout",
     "output_type": "stream",
     "text": [
      "Accuracy on testing set =  0.6053547191761639\n"
     ]
    },
    {
     "data": {
      "image/png": "[encoded data removed]",
      "text/plain": [
       "<Figure size 640x480 with 2 Axes>"
      ]
     },
     "metadata": {},
     "output_type": "display_data"
    }
   ],
   "source": [
    "# Evaluate your model on the testing set\n",
    "print(\"Accuracy on testing set = \", accuracy_score(Y_test, Y_test_predictions))\n",
    "\n",
    "# Plot a confusion matrix\n",
    "cm = confusion_matrix(Y_test, Y_test_predictions, normalize='true')\n",
    "sns.heatmap(cm, annot=True)\n",
    "plt.title('Confusion matrix of the classifier')\n",
    "plt.xlabel('Predicted')\n",
    "plt.ylabel('True')\n",
    "plt.show()"
   ]
  },
  {
   "cell_type": "markdown",
   "metadata": {},
   "source": [
    "# Create submission file"
   ]
  },
  {
   "cell_type": "code",
   "execution_count": 136,
   "metadata": {},
   "outputs": [],
   "source": [
    "# Create the submission file\n",
    "X_submission['Score'] = model.predict(X_submission_select)\n",
    "submission = X_submission[['Id', 'Score']]\n",
    "submission.to_csv(\"./data/submission.csv\", index=False)"
   ]
  }
 ],
 "metadata": {
  "kernelspec": {
   "display_name": "Python 3 (ipykernel)",
   "language": "python",
   "name": "python3"
  },
  "language_info": {
   "codemirror_mode": {
    "name": "ipython",
    "version": 3
   },
   "file_extension": ".py",
   "mimetype": "text/x-python",
   "name": "python",
   "nbconvert_exporter": "python",
   "pygments_lexer": "ipython3",
   "version": "3.12.7"
  }
 },
 "nbformat": 4,
 "nbformat_minor": 4
}
